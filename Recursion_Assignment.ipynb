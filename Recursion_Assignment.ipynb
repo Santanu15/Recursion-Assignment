{
 "cells": [
  {
   "cell_type": "code",
   "execution_count": null,
   "id": "a22316ba-c15a-46b2-a630-824a232a8a52",
   "metadata": {},
   "outputs": [],
   "source": []
  },
  {
   "cell_type": "code",
   "execution_count": 2,
   "id": "38ce090d-c603-4aac-859a-091284c76ffe",
   "metadata": {},
   "outputs": [],
   "source": [
    "# Given two strings word1 and word2, return the minimum number of operations required to convert word1 to word2."
   ]
  },
  {
   "cell_type": "code",
   "execution_count": 8,
   "id": "c9e360bb-7fd1-4692-baf4-3aba64c51218",
   "metadata": {},
   "outputs": [
    {
     "name": "stdout",
     "output_type": "stream",
     "text": [
      "5\n"
     ]
    }
   ],
   "source": [
    "#Method_defination:\n",
    "\n",
    "def operation(word1,word2):\n",
    "    if not word1:\n",
    "        return len(word2)\n",
    "    if not word2:\n",
    "        return len(word1)\n",
    "    \n",
    "    if word1[-1]==word2[-1]:\n",
    "        return operation(word1[:-1],word2[:-1])\n",
    "    else:\n",
    "        insert=1+operation(word1,word2[:-1])\n",
    "        delete=1+operation(word1[:-1],word2)\n",
    "        replace=1+operation(word1[:-1],word2[:-1])\n",
    "        \n",
    "        return min(insert,delete,replace)\n",
    "    \n",
    "#Driver_Code:\n",
    "\n",
    "word1=\"intention\"\n",
    "word2=\"execution\"\n",
    "print(operation(word1,word2))"
   ]
  },
  {
   "cell_type": "code",
   "execution_count": null,
   "id": "6055302b-bb4d-43d8-89d4-68203dc078ff",
   "metadata": {},
   "outputs": [],
   "source": []
  },
  {
   "cell_type": "code",
   "execution_count": 11,
   "id": "33e067a9-c8dc-449b-8501-1433ba622555",
   "metadata": {},
   "outputs": [],
   "source": [
    "# Print the max value of the array [ 13, 1, -3, 22, 5]"
   ]
  },
  {
   "cell_type": "code",
   "execution_count": 17,
   "id": "524c1137-e3eb-4209-a10b-079a9ee1b4c6",
   "metadata": {},
   "outputs": [
    {
     "name": "stdout",
     "output_type": "stream",
     "text": [
      "22\n"
     ]
    }
   ],
   "source": [
    "#Method_defination:\n",
    "\n",
    "def maximum(arr):\n",
    "    if len(arr)==1:\n",
    "        return arr[0]\n",
    "    else:\n",
    "        max_value=maximum(arr[1:])\n",
    "        \n",
    "        if arr[0]>max_value:\n",
    "            return arr[0]\n",
    "        else:\n",
    "            return max_value\n",
    "        \n",
    "        \n",
    "#Driver_Code:\n",
    "\n",
    "arr=[13, 1, -3, 22, 5]\n",
    "print(maximum(arr))\n"
   ]
  },
  {
   "cell_type": "code",
   "execution_count": null,
   "id": "186b62d6-aef7-40d4-a74c-ceaaa461388e",
   "metadata": {},
   "outputs": [],
   "source": []
  },
  {
   "cell_type": "code",
   "execution_count": 14,
   "id": "13b979e0-8793-438c-a47a-3799d206e984",
   "metadata": {},
   "outputs": [],
   "source": [
    "#Find the sum of the values of the array [92, 23, 15, -20, 10]"
   ]
  },
  {
   "cell_type": "code",
   "execution_count": 16,
   "id": "96dac15f-2825-4658-8024-dc57680ccc2f",
   "metadata": {},
   "outputs": [
    {
     "name": "stdout",
     "output_type": "stream",
     "text": [
      "120\n"
     ]
    }
   ],
   "source": [
    "#Method_defination:\n",
    "\n",
    "def sum_of_array(arr):\n",
    "    \n",
    "    if len(arr)==1:\n",
    "        return arr[0]\n",
    "    \n",
    "    else:\n",
    "        rest_sum=sum_of_array(arr[1:])\n",
    "        return arr[0]+rest_sum\n",
    "    \n",
    "#Driver_Code:\n",
    "arr=[92, 23, 15, -20, 10]\n",
    "print(sum_of_array(arr))\n"
   ]
  },
  {
   "cell_type": "code",
   "execution_count": null,
   "id": "fde42ffe-cf69-4a87-8a74-8edd23e9f5f5",
   "metadata": {},
   "outputs": [],
   "source": []
  },
  {
   "cell_type": "code",
   "execution_count": null,
   "id": "69e83186-4183-4b9d-a725-3e176f47d310",
   "metadata": {},
   "outputs": [],
   "source": []
  },
  {
   "cell_type": "code",
   "execution_count": null,
   "id": "46b03691-bd29-4536-a11e-b83426e4decc",
   "metadata": {},
   "outputs": [],
   "source": []
  },
  {
   "cell_type": "code",
   "execution_count": null,
   "id": "7d16d588-05f2-44d8-9ab1-bba5932f44a9",
   "metadata": {},
   "outputs": [],
   "source": []
  },
  {
   "cell_type": "code",
   "execution_count": null,
   "id": "ec7aac66-daac-45c1-b677-c2dbf84ad3b9",
   "metadata": {},
   "outputs": [],
   "source": []
  },
  {
   "cell_type": "code",
   "execution_count": null,
   "id": "e28fcda0-c3f9-4df3-bd9a-dd67a74724a4",
   "metadata": {},
   "outputs": [],
   "source": []
  },
  {
   "cell_type": "code",
   "execution_count": null,
   "id": "892a538f-d6cf-4fcb-a4d0-fd574d584e23",
   "metadata": {},
   "outputs": [],
   "source": []
  },
  {
   "cell_type": "code",
   "execution_count": null,
   "id": "287b0d19-f90a-4835-9150-9e1ab7b83415",
   "metadata": {},
   "outputs": [],
   "source": []
  }
 ],
 "metadata": {
  "kernelspec": {
   "display_name": "Python 3 (ipykernel)",
   "language": "python",
   "name": "python3"
  },
  "language_info": {
   "codemirror_mode": {
    "name": "ipython",
    "version": 3
   },
   "file_extension": ".py",
   "mimetype": "text/x-python",
   "name": "python",
   "nbconvert_exporter": "python",
   "pygments_lexer": "ipython3",
   "version": "3.10.8"
  }
 },
 "nbformat": 4,
 "nbformat_minor": 5
}
